{
 "cells": [
  {
   "cell_type": "code",
   "execution_count": null,
   "metadata": {},
   "outputs": [],
   "source": [
    "#Homework 1\n",
    "#1) How would you define Machine Learning?\n",
    "#2) What are the differences between Supervised and Unsupervised Learning? Specify example 3 algorithms for each of these.\n",
    "#3) What are the test and validation set, and why would you want to use them?\n",
    "#4) What are the main preprocessing steps? Explain them in detail. Why we need to prepare our data?\n",
    "#5) How you can explore countionus and discrete variables?\n",
    "#6) Analyse the plot given below. (What is the plot and variable type, check the distribution and make comment about how you can preproccess it.)\n",
    "\n",
    "#ANSWER\n",
    "\n",
    "#Q1 - > How would you define Machine Learning?\n",
    "Machine learning is an application of artificial intelligence (AI) that provides systems the ability to automatically learn and improve from experience without being explicitly programmed. \n",
    "\n",
    "#Q2 -> What are the differences between Supervised and Unsupervised Learning? Specify example 3 algorithms for each of these.\n",
    "In supervised learning, we have input and output parameters and the computer is trained on the output parameter, but we do not have output data in unsupervised learning, the computer is trained with unlabeled data.\n",
    "Supervised Learning Algorithms -> Linear regression, Logistic regression and Decision Trees\n",
    "Unsupervised Learning Algorithms -> K-means Clustering, K- Nearest Neighbors and Clustering Generative Adversarial Networks Neural Network\n",
    "\n",
    "#Q3 -> What are the test and validation set, and why would you want to use them?\n",
    "Validation Set -> The data set selected from the training dataset and used to calculate the accuracy of the training model is called a validation dataset.\n",
    "Test Set -> The data set that is outside of the training and validation dataset, which allows us to calculate how accurately the model makes predictions, is called a test dataset.\n",
    "\n",
    "#Q4 -> What are the main preprocessing steps? Explain them in detail. Why we need to prepare our data?\n",
    "To get more accurate results from our machine learning model, we need to take it into data preprocessing steps.\n",
    "To get more accurate results from our model, we need to preprocess the data.\n",
    "These transactions;\n",
    "1) We must know our data very well. We must determine which features are how correlated and determine the features we will use in the model accordingly.\n",
    "2) Detection and deletion of duplicate data.\n",
    "3) Filling the missing data according to the data we will use in our model. In these filling methods, methods such as averaging the data, deleting the column with missing data, taking the median of the data or filling the missing data with 0 can be applied.\n",
    "4) We must determine outlier data and remove this data from our dataset.\n",
    "5) We have to normalize our data so that there is no coefficient difference of features in our model.\n",
    "6) We cannot add categorical variables to our model, so we need to replace these variables with numerical variables. To do this, we apply different approaches depending on whether the data is nominal or ordinal. We use the one-hot encoding method in nominal data and the method of assigning numerical data to each value in ordinal data.\n",
    "\n",
    "#Q5 -> How you can explore countionus and discrete variables?\n",
    "A discrete variable is a variable whose value is obtained by counting. A continuous variable is a variable whose value is obtained by measuring.\n",
    "Using graphics libraries like Seaborn or Matplotlib, I can examine continuous or discrete variables and make inferences from them.\n",
    "\n",
    "#Q6 -> Analyse the plot given below. (What is the plot and variable type, check the distribution and make comment about how you can preproccess it.)\n",
    "This chart is a histogram chart and is designed for continuous data. We can normalize this data to adapt it to a normal distribution."
   ]
  }
 ],
 "metadata": {
  "kernelspec": {
   "display_name": "Python 3",
   "language": "python",
   "name": "python3"
  },
  "language_info": {
   "codemirror_mode": {
    "name": "ipython",
    "version": 3
   },
   "file_extension": ".py",
   "mimetype": "text/x-python",
   "name": "python",
   "nbconvert_exporter": "python",
   "pygments_lexer": "ipython3",
   "version": "3.7.6"
  }
 },
 "nbformat": 4,
 "nbformat_minor": 4
}
